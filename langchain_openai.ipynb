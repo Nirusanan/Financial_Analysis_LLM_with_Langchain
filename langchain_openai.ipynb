{
  "nbformat": 4,
  "nbformat_minor": 0,
  "metadata": {
    "colab": {
      "provenance": []
    },
    "kernelspec": {
      "name": "python3",
      "display_name": "Python 3"
    },
    "language_info": {
      "name": "python"
    }
  },
  "cells": [
    {
      "cell_type": "code",
      "execution_count": null,
      "metadata": {
        "colab": {
          "base_uri": "https://localhost:8080/"
        },
        "id": "7WzBU3Yu8GqT",
        "outputId": "65e10de0-5988-4416-def7-5c3fef67f45e"
      },
      "outputs": [
        {
          "output_type": "stream",
          "name": "stdout",
          "text": [
            "\u001b[?25l     \u001b[90m━━━━━━━━━━━━━━━━━━━━━━━━━━━━━━━━━━━━━━━━\u001b[0m \u001b[32m0.0/165.7 kB\u001b[0m \u001b[31m?\u001b[0m eta \u001b[36m-:--:--\u001b[0m\r\u001b[2K     \u001b[91m━━━━━━━━━━━━━━━━━━━━━━━━━━━━━━━━━━━━━\u001b[0m\u001b[90m╺\u001b[0m\u001b[90m━━\u001b[0m \u001b[32m153.6/165.7 kB\u001b[0m \u001b[31m4.3 MB/s\u001b[0m eta \u001b[36m0:00:01\u001b[0m\r\u001b[2K     \u001b[90m━━━━━━━━━━━━━━━━━━━━━━━━━━━━━━━━━━━━━━━━\u001b[0m \u001b[32m165.7/165.7 kB\u001b[0m \u001b[31m3.5 MB/s\u001b[0m eta \u001b[36m0:00:00\u001b[0m\n",
            "\u001b[?25h"
          ]
        }
      ],
      "source": [
        "!pip install -q langchain openai\n",
        "!pip install -q langchain-experimental"
      ]
    },
    {
      "cell_type": "code",
      "source": [
        "import pandas as pd\n",
        "from langchain.chat_models import ChatOpenAI\n",
        "from langchain_experimental.agents.agent_toolkits import create_pandas_dataframe_agent\n",
        "from langchain.agents.agent_types import AgentType\n",
        "from langchain.callbacks import get_openai_callback"
      ],
      "metadata": {
        "id": "Ji6SzsYO8JJX"
      },
      "execution_count": null,
      "outputs": []
    },
    {
      "cell_type": "code",
      "source": [
        "!pip install \"gdown==4.6\""
      ],
      "metadata": {
        "colab": {
          "base_uri": "https://localhost:8080/"
        },
        "id": "sGk3C-x_8W51",
        "outputId": "508927c6-b2cb-43ef-a99d-96b6803b350a"
      },
      "execution_count": null,
      "outputs": [
        {
          "output_type": "stream",
          "name": "stdout",
          "text": [
            "Collecting gdown==4.6\n",
            "  Downloading gdown-4.6.0-py3-none-any.whl (14 kB)\n",
            "Requirement already satisfied: filelock in /usr/local/lib/python3.10/dist-packages (from gdown==4.6) (3.13.1)\n",
            "Requirement already satisfied: requests[socks] in /usr/local/lib/python3.10/dist-packages (from gdown==4.6) (2.31.0)\n",
            "Requirement already satisfied: six in /usr/local/lib/python3.10/dist-packages (from gdown==4.6) (1.16.0)\n",
            "Requirement already satisfied: tqdm in /usr/local/lib/python3.10/dist-packages (from gdown==4.6) (4.66.1)\n",
            "Requirement already satisfied: beautifulsoup4 in /usr/local/lib/python3.10/dist-packages (from gdown==4.6) (4.11.2)\n",
            "Requirement already satisfied: soupsieve>1.2 in /usr/local/lib/python3.10/dist-packages (from beautifulsoup4->gdown==4.6) (2.5)\n",
            "Requirement already satisfied: charset-normalizer<4,>=2 in /usr/local/lib/python3.10/dist-packages (from requests[socks]->gdown==4.6) (3.3.2)\n",
            "Requirement already satisfied: idna<4,>=2.5 in /usr/local/lib/python3.10/dist-packages (from requests[socks]->gdown==4.6) (3.6)\n",
            "Requirement already satisfied: urllib3<3,>=1.21.1 in /usr/local/lib/python3.10/dist-packages (from requests[socks]->gdown==4.6) (2.0.7)\n",
            "Requirement already satisfied: certifi>=2017.4.17 in /usr/local/lib/python3.10/dist-packages (from requests[socks]->gdown==4.6) (2023.11.17)\n",
            "Requirement already satisfied: PySocks!=1.5.7,>=1.5.6 in /usr/local/lib/python3.10/dist-packages (from requests[socks]->gdown==4.6) (1.7.1)\n",
            "Installing collected packages: gdown\n",
            "  Attempting uninstall: gdown\n",
            "    Found existing installation: gdown 4.7.3\n",
            "    Uninstalling gdown-4.7.3:\n",
            "      Successfully uninstalled gdown-4.7.3\n",
            "Successfully installed gdown-4.6.0\n"
          ]
        }
      ]
    },
    {
      "cell_type": "code",
      "source": [
        "!gdown --id 1zYVU1kB_eVCSWHNUhWrYVDF-v2djxYM5"
      ],
      "metadata": {
        "colab": {
          "base_uri": "https://localhost:8080/"
        },
        "id": "GfcnkJwb9k7R",
        "outputId": "b938ffc7-e553-4a78-e201-1aa823fea763"
      },
      "execution_count": null,
      "outputs": [
        {
          "output_type": "stream",
          "name": "stdout",
          "text": [
            "/usr/local/lib/python3.10/dist-packages/gdown/cli.py:121: FutureWarning: Option `--id` was deprecated in version 4.3.1 and will be removed in 5.0. You don't need to pass it anymore to use a file ID.\n",
            "  warnings.warn(\n",
            "Downloading...\n",
            "From: https://drive.google.com/uc?id=1zYVU1kB_eVCSWHNUhWrYVDF-v2djxYM5\n",
            "To: /content/Validation_Dataset_Question.zip\n",
            "100% 10.7M/10.7M [00:00<00:00, 71.6MB/s]\n"
          ]
        }
      ]
    },
    {
      "cell_type": "code",
      "source": [
        "!unzip Validation_Dataset_Question.zip"
      ],
      "metadata": {
        "colab": {
          "base_uri": "https://localhost:8080/"
        },
        "id": "uamil5ey9k4g",
        "outputId": "04336d8c-9693-4ef2-f83b-e86dac0b0513"
      },
      "execution_count": null,
      "outputs": [
        {
          "output_type": "stream",
          "name": "stdout",
          "text": [
            "Archive:  Validation_Dataset_Question.zip\n",
            "  inflating: Validation_Dataset_Question/code_validate_dataset.csv  \n",
            "   creating: Validation_Dataset_Question/Val_Data/\n",
            "  inflating: Validation_Dataset_Question/Val_Data/Airline Dataset.csv  \n",
            "  inflating: Validation_Dataset_Question/Val_Data/AnalyticsVidiya.csv  \n",
            "  inflating: Validation_Dataset_Question/Val_Data/BigMart.csv  \n",
            "  inflating: Validation_Dataset_Question/Val_Data/customer_shopping_data.csv  \n",
            "  inflating: Validation_Dataset_Question/Val_Data/MEN_SHOES.csv  \n"
          ]
        }
      ]
    },
    {
      "cell_type": "code",
      "source": [
        "from google.colab import userdata\n",
        "openai_key = userdata.get('openai_api')"
      ],
      "metadata": {
        "id": "BQhYzUJfAPHu"
      },
      "execution_count": null,
      "outputs": []
    },
    {
      "cell_type": "code",
      "source": [
        "df = pd.read_csv(\"Validation_Dataset_Question/Val_Data/Airline Dataset.csv\")"
      ],
      "metadata": {
        "id": "QOz4izI19k0A"
      },
      "execution_count": null,
      "outputs": []
    },
    {
      "cell_type": "code",
      "source": [
        "agent = create_pandas_dataframe_agent(\n",
        "    ChatOpenAI(temperature=0, model=\"gpt-3.5-turbo-0613\", api_key=openai_key),\n",
        "    df,\n",
        "    verbose=True,\n",
        "    agent_type=AgentType.OPENAI_FUNCTIONS,\n",
        ")"
      ],
      "metadata": {
        "id": "y-IySxrq9kxe"
      },
      "execution_count": null,
      "outputs": []
    },
    {
      "cell_type": "code",
      "source": [
        "df.head()"
      ],
      "metadata": {
        "colab": {
          "base_uri": "https://localhost:8080/",
          "height": 206
        },
        "id": "BbN2AhOQDO_J",
        "outputId": "623b6d54-ce40-472c-ae17-52aea4ba842f"
      },
      "execution_count": null,
      "outputs": [
        {
          "output_type": "execute_result",
          "data": {
            "text/plain": [
              "   Passenger ID First Name Last Name  Gender  Age Nationality  \\\n",
              "0         10856     Edithe    Leggis  Female   62       Japan   \n",
              "1         43872     Elwood      Catt    Male   62   Nicaragua   \n",
              "2         42633      Darby   Felgate    Male   67      Russia   \n",
              "3         78493   Dominica      Pyle  Female   71       China   \n",
              "4         82072        Bay   Pencost    Male   21       China   \n",
              "\n",
              "                Airport Name Airport Country Code   Country Name  \\\n",
              "0           Coldfoot Airport                   US  United States   \n",
              "1          Kugluktuk Airport                   CA         Canada   \n",
              "2     Grenoble-Isère Airport                   FR         France   \n",
              "3  Ottawa / Gatineau Airport                   CA         Canada   \n",
              "4            Gillespie Field                   US  United States   \n",
              "\n",
              "  Airport Continent     Continents Departure Date Arrival Airport  \\\n",
              "0               NAM  North America     2022-06-28             CXF   \n",
              "1               NAM  North America     2022-12-26             YCO   \n",
              "2                EU         Europe     2022-01-18             GNB   \n",
              "3               NAM  North America     2022-09-16             YND   \n",
              "4               NAM  North America     2022-02-25             SEE   \n",
              "\n",
              "      Pilot Name Flight Status  \n",
              "0  Edithe Leggis       On Time  \n",
              "1    Elwood Catt       On Time  \n",
              "2  Darby Felgate       On Time  \n",
              "3  Dominica Pyle       Delayed  \n",
              "4    Bay Pencost       On Time  "
            ],
            "text/html": [
              "\n",
              "  <div id=\"df-f179b3e2-a2e8-4253-b6d9-1c1b4e242c5d\" class=\"colab-df-container\">\n",
              "    <div>\n",
              "<style scoped>\n",
              "    .dataframe tbody tr th:only-of-type {\n",
              "        vertical-align: middle;\n",
              "    }\n",
              "\n",
              "    .dataframe tbody tr th {\n",
              "        vertical-align: top;\n",
              "    }\n",
              "\n",
              "    .dataframe thead th {\n",
              "        text-align: right;\n",
              "    }\n",
              "</style>\n",
              "<table border=\"1\" class=\"dataframe\">\n",
              "  <thead>\n",
              "    <tr style=\"text-align: right;\">\n",
              "      <th></th>\n",
              "      <th>Passenger ID</th>\n",
              "      <th>First Name</th>\n",
              "      <th>Last Name</th>\n",
              "      <th>Gender</th>\n",
              "      <th>Age</th>\n",
              "      <th>Nationality</th>\n",
              "      <th>Airport Name</th>\n",
              "      <th>Airport Country Code</th>\n",
              "      <th>Country Name</th>\n",
              "      <th>Airport Continent</th>\n",
              "      <th>Continents</th>\n",
              "      <th>Departure Date</th>\n",
              "      <th>Arrival Airport</th>\n",
              "      <th>Pilot Name</th>\n",
              "      <th>Flight Status</th>\n",
              "    </tr>\n",
              "  </thead>\n",
              "  <tbody>\n",
              "    <tr>\n",
              "      <th>0</th>\n",
              "      <td>10856</td>\n",
              "      <td>Edithe</td>\n",
              "      <td>Leggis</td>\n",
              "      <td>Female</td>\n",
              "      <td>62</td>\n",
              "      <td>Japan</td>\n",
              "      <td>Coldfoot Airport</td>\n",
              "      <td>US</td>\n",
              "      <td>United States</td>\n",
              "      <td>NAM</td>\n",
              "      <td>North America</td>\n",
              "      <td>2022-06-28</td>\n",
              "      <td>CXF</td>\n",
              "      <td>Edithe Leggis</td>\n",
              "      <td>On Time</td>\n",
              "    </tr>\n",
              "    <tr>\n",
              "      <th>1</th>\n",
              "      <td>43872</td>\n",
              "      <td>Elwood</td>\n",
              "      <td>Catt</td>\n",
              "      <td>Male</td>\n",
              "      <td>62</td>\n",
              "      <td>Nicaragua</td>\n",
              "      <td>Kugluktuk Airport</td>\n",
              "      <td>CA</td>\n",
              "      <td>Canada</td>\n",
              "      <td>NAM</td>\n",
              "      <td>North America</td>\n",
              "      <td>2022-12-26</td>\n",
              "      <td>YCO</td>\n",
              "      <td>Elwood Catt</td>\n",
              "      <td>On Time</td>\n",
              "    </tr>\n",
              "    <tr>\n",
              "      <th>2</th>\n",
              "      <td>42633</td>\n",
              "      <td>Darby</td>\n",
              "      <td>Felgate</td>\n",
              "      <td>Male</td>\n",
              "      <td>67</td>\n",
              "      <td>Russia</td>\n",
              "      <td>Grenoble-Isère Airport</td>\n",
              "      <td>FR</td>\n",
              "      <td>France</td>\n",
              "      <td>EU</td>\n",
              "      <td>Europe</td>\n",
              "      <td>2022-01-18</td>\n",
              "      <td>GNB</td>\n",
              "      <td>Darby Felgate</td>\n",
              "      <td>On Time</td>\n",
              "    </tr>\n",
              "    <tr>\n",
              "      <th>3</th>\n",
              "      <td>78493</td>\n",
              "      <td>Dominica</td>\n",
              "      <td>Pyle</td>\n",
              "      <td>Female</td>\n",
              "      <td>71</td>\n",
              "      <td>China</td>\n",
              "      <td>Ottawa / Gatineau Airport</td>\n",
              "      <td>CA</td>\n",
              "      <td>Canada</td>\n",
              "      <td>NAM</td>\n",
              "      <td>North America</td>\n",
              "      <td>2022-09-16</td>\n",
              "      <td>YND</td>\n",
              "      <td>Dominica Pyle</td>\n",
              "      <td>Delayed</td>\n",
              "    </tr>\n",
              "    <tr>\n",
              "      <th>4</th>\n",
              "      <td>82072</td>\n",
              "      <td>Bay</td>\n",
              "      <td>Pencost</td>\n",
              "      <td>Male</td>\n",
              "      <td>21</td>\n",
              "      <td>China</td>\n",
              "      <td>Gillespie Field</td>\n",
              "      <td>US</td>\n",
              "      <td>United States</td>\n",
              "      <td>NAM</td>\n",
              "      <td>North America</td>\n",
              "      <td>2022-02-25</td>\n",
              "      <td>SEE</td>\n",
              "      <td>Bay Pencost</td>\n",
              "      <td>On Time</td>\n",
              "    </tr>\n",
              "  </tbody>\n",
              "</table>\n",
              "</div>\n",
              "    <div class=\"colab-df-buttons\">\n",
              "\n",
              "  <div class=\"colab-df-container\">\n",
              "    <button class=\"colab-df-convert\" onclick=\"convertToInteractive('df-f179b3e2-a2e8-4253-b6d9-1c1b4e242c5d')\"\n",
              "            title=\"Convert this dataframe to an interactive table.\"\n",
              "            style=\"display:none;\">\n",
              "\n",
              "  <svg xmlns=\"http://www.w3.org/2000/svg\" height=\"24px\" viewBox=\"0 -960 960 960\">\n",
              "    <path d=\"M120-120v-720h720v720H120Zm60-500h600v-160H180v160Zm220 220h160v-160H400v160Zm0 220h160v-160H400v160ZM180-400h160v-160H180v160Zm440 0h160v-160H620v160ZM180-180h160v-160H180v160Zm440 0h160v-160H620v160Z\"/>\n",
              "  </svg>\n",
              "    </button>\n",
              "\n",
              "  <style>\n",
              "    .colab-df-container {\n",
              "      display:flex;\n",
              "      gap: 12px;\n",
              "    }\n",
              "\n",
              "    .colab-df-convert {\n",
              "      background-color: #E8F0FE;\n",
              "      border: none;\n",
              "      border-radius: 50%;\n",
              "      cursor: pointer;\n",
              "      display: none;\n",
              "      fill: #1967D2;\n",
              "      height: 32px;\n",
              "      padding: 0 0 0 0;\n",
              "      width: 32px;\n",
              "    }\n",
              "\n",
              "    .colab-df-convert:hover {\n",
              "      background-color: #E2EBFA;\n",
              "      box-shadow: 0px 1px 2px rgba(60, 64, 67, 0.3), 0px 1px 3px 1px rgba(60, 64, 67, 0.15);\n",
              "      fill: #174EA6;\n",
              "    }\n",
              "\n",
              "    .colab-df-buttons div {\n",
              "      margin-bottom: 4px;\n",
              "    }\n",
              "\n",
              "    [theme=dark] .colab-df-convert {\n",
              "      background-color: #3B4455;\n",
              "      fill: #D2E3FC;\n",
              "    }\n",
              "\n",
              "    [theme=dark] .colab-df-convert:hover {\n",
              "      background-color: #434B5C;\n",
              "      box-shadow: 0px 1px 3px 1px rgba(0, 0, 0, 0.15);\n",
              "      filter: drop-shadow(0px 1px 2px rgba(0, 0, 0, 0.3));\n",
              "      fill: #FFFFFF;\n",
              "    }\n",
              "  </style>\n",
              "\n",
              "    <script>\n",
              "      const buttonEl =\n",
              "        document.querySelector('#df-f179b3e2-a2e8-4253-b6d9-1c1b4e242c5d button.colab-df-convert');\n",
              "      buttonEl.style.display =\n",
              "        google.colab.kernel.accessAllowed ? 'block' : 'none';\n",
              "\n",
              "      async function convertToInteractive(key) {\n",
              "        const element = document.querySelector('#df-f179b3e2-a2e8-4253-b6d9-1c1b4e242c5d');\n",
              "        const dataTable =\n",
              "          await google.colab.kernel.invokeFunction('convertToInteractive',\n",
              "                                                    [key], {});\n",
              "        if (!dataTable) return;\n",
              "\n",
              "        const docLinkHtml = 'Like what you see? Visit the ' +\n",
              "          '<a target=\"_blank\" href=https://colab.research.google.com/notebooks/data_table.ipynb>data table notebook</a>'\n",
              "          + ' to learn more about interactive tables.';\n",
              "        element.innerHTML = '';\n",
              "        dataTable['output_type'] = 'display_data';\n",
              "        await google.colab.output.renderOutput(dataTable, element);\n",
              "        const docLink = document.createElement('div');\n",
              "        docLink.innerHTML = docLinkHtml;\n",
              "        element.appendChild(docLink);\n",
              "      }\n",
              "    </script>\n",
              "  </div>\n",
              "\n",
              "\n",
              "<div id=\"df-15c64560-f5dd-42f7-92c4-e80f6d2f12a8\">\n",
              "  <button class=\"colab-df-quickchart\" onclick=\"quickchart('df-15c64560-f5dd-42f7-92c4-e80f6d2f12a8')\"\n",
              "            title=\"Suggest charts\"\n",
              "            style=\"display:none;\">\n",
              "\n",
              "<svg xmlns=\"http://www.w3.org/2000/svg\" height=\"24px\"viewBox=\"0 0 24 24\"\n",
              "     width=\"24px\">\n",
              "    <g>\n",
              "        <path d=\"M19 3H5c-1.1 0-2 .9-2 2v14c0 1.1.9 2 2 2h14c1.1 0 2-.9 2-2V5c0-1.1-.9-2-2-2zM9 17H7v-7h2v7zm4 0h-2V7h2v10zm4 0h-2v-4h2v4z\"/>\n",
              "    </g>\n",
              "</svg>\n",
              "  </button>\n",
              "\n",
              "<style>\n",
              "  .colab-df-quickchart {\n",
              "      --bg-color: #E8F0FE;\n",
              "      --fill-color: #1967D2;\n",
              "      --hover-bg-color: #E2EBFA;\n",
              "      --hover-fill-color: #174EA6;\n",
              "      --disabled-fill-color: #AAA;\n",
              "      --disabled-bg-color: #DDD;\n",
              "  }\n",
              "\n",
              "  [theme=dark] .colab-df-quickchart {\n",
              "      --bg-color: #3B4455;\n",
              "      --fill-color: #D2E3FC;\n",
              "      --hover-bg-color: #434B5C;\n",
              "      --hover-fill-color: #FFFFFF;\n",
              "      --disabled-bg-color: #3B4455;\n",
              "      --disabled-fill-color: #666;\n",
              "  }\n",
              "\n",
              "  .colab-df-quickchart {\n",
              "    background-color: var(--bg-color);\n",
              "    border: none;\n",
              "    border-radius: 50%;\n",
              "    cursor: pointer;\n",
              "    display: none;\n",
              "    fill: var(--fill-color);\n",
              "    height: 32px;\n",
              "    padding: 0;\n",
              "    width: 32px;\n",
              "  }\n",
              "\n",
              "  .colab-df-quickchart:hover {\n",
              "    background-color: var(--hover-bg-color);\n",
              "    box-shadow: 0 1px 2px rgba(60, 64, 67, 0.3), 0 1px 3px 1px rgba(60, 64, 67, 0.15);\n",
              "    fill: var(--button-hover-fill-color);\n",
              "  }\n",
              "\n",
              "  .colab-df-quickchart-complete:disabled,\n",
              "  .colab-df-quickchart-complete:disabled:hover {\n",
              "    background-color: var(--disabled-bg-color);\n",
              "    fill: var(--disabled-fill-color);\n",
              "    box-shadow: none;\n",
              "  }\n",
              "\n",
              "  .colab-df-spinner {\n",
              "    border: 2px solid var(--fill-color);\n",
              "    border-color: transparent;\n",
              "    border-bottom-color: var(--fill-color);\n",
              "    animation:\n",
              "      spin 1s steps(1) infinite;\n",
              "  }\n",
              "\n",
              "  @keyframes spin {\n",
              "    0% {\n",
              "      border-color: transparent;\n",
              "      border-bottom-color: var(--fill-color);\n",
              "      border-left-color: var(--fill-color);\n",
              "    }\n",
              "    20% {\n",
              "      border-color: transparent;\n",
              "      border-left-color: var(--fill-color);\n",
              "      border-top-color: var(--fill-color);\n",
              "    }\n",
              "    30% {\n",
              "      border-color: transparent;\n",
              "      border-left-color: var(--fill-color);\n",
              "      border-top-color: var(--fill-color);\n",
              "      border-right-color: var(--fill-color);\n",
              "    }\n",
              "    40% {\n",
              "      border-color: transparent;\n",
              "      border-right-color: var(--fill-color);\n",
              "      border-top-color: var(--fill-color);\n",
              "    }\n",
              "    60% {\n",
              "      border-color: transparent;\n",
              "      border-right-color: var(--fill-color);\n",
              "    }\n",
              "    80% {\n",
              "      border-color: transparent;\n",
              "      border-right-color: var(--fill-color);\n",
              "      border-bottom-color: var(--fill-color);\n",
              "    }\n",
              "    90% {\n",
              "      border-color: transparent;\n",
              "      border-bottom-color: var(--fill-color);\n",
              "    }\n",
              "  }\n",
              "</style>\n",
              "\n",
              "  <script>\n",
              "    async function quickchart(key) {\n",
              "      const quickchartButtonEl =\n",
              "        document.querySelector('#' + key + ' button');\n",
              "      quickchartButtonEl.disabled = true;  // To prevent multiple clicks.\n",
              "      quickchartButtonEl.classList.add('colab-df-spinner');\n",
              "      try {\n",
              "        const charts = await google.colab.kernel.invokeFunction(\n",
              "            'suggestCharts', [key], {});\n",
              "      } catch (error) {\n",
              "        console.error('Error during call to suggestCharts:', error);\n",
              "      }\n",
              "      quickchartButtonEl.classList.remove('colab-df-spinner');\n",
              "      quickchartButtonEl.classList.add('colab-df-quickchart-complete');\n",
              "    }\n",
              "    (() => {\n",
              "      let quickchartButtonEl =\n",
              "        document.querySelector('#df-15c64560-f5dd-42f7-92c4-e80f6d2f12a8 button');\n",
              "      quickchartButtonEl.style.display =\n",
              "        google.colab.kernel.accessAllowed ? 'block' : 'none';\n",
              "    })();\n",
              "  </script>\n",
              "</div>\n",
              "\n",
              "    </div>\n",
              "  </div>\n"
            ]
          },
          "metadata": {},
          "execution_count": 38
        }
      ]
    },
    {
      "cell_type": "code",
      "source": [
        "global process\n",
        "def process(df):\n",
        " # Convert the date to a datetime object\n",
        " df['Departure Date'] = pd.to_datetime(df['Departure Date'], format='%m/%d/%Y')\n",
        "\n",
        " # Check if 'US' is present in the 'Airport Country Code' column\n",
        " us_airports = df[df['Airport Country Code'] == 'US']\n",
        "\n",
        " # Filter the dataframe for rows where the departure date is 2022-01-01\n",
        " january_1_2022 = pd.Timestamp('2022-01-01')\n",
        " arrivals_on_january_1 = us_airports[us_airports['Departure Date'] == '1/1/2022']\n",
        "\n",
        " # Count the number of rows\n",
        " number_of_arrivals = arrivals_on_january_1.shape[0]\n",
        "\n",
        " return f\"{number_of_arrivals} passengers arrived in a US airport on 2022-01-01.\""
      ],
      "metadata": {
        "id": "xk_9Q7z9DG1K"
      },
      "execution_count": null,
      "outputs": []
    },
    {
      "cell_type": "code",
      "source": [
        "process(df)"
      ],
      "metadata": {
        "colab": {
          "base_uri": "https://localhost:8080/",
          "height": 35
        },
        "id": "wMAczm_LDIAs",
        "outputId": "b96e5ada-1b73-40e1-a654-a0cb4641d985"
      },
      "execution_count": null,
      "outputs": [
        {
          "output_type": "execute_result",
          "data": {
            "text/plain": [
              "'66 passengers arrived in a US airport on 2022-01-01.'"
            ],
            "application/vnd.google.colaboratory.intrinsic+json": {
              "type": "string"
            }
          },
          "metadata": {},
          "execution_count": 42
        }
      ]
    },
    {
      "cell_type": "code",
      "source": [
        "df[(df['Airport Country Code'] == 'US') & (df['Departure Date'] == '1/1/2022')].shape[0]"
      ],
      "metadata": {
        "colab": {
          "base_uri": "https://localhost:8080/"
        },
        "id": "EN1jS5AJDwy-",
        "outputId": "0197bbd8-9f3a-40bf-e9be-1c87933f8f74"
      },
      "execution_count": null,
      "outputs": [
        {
          "output_type": "execute_result",
          "data": {
            "text/plain": [
              "66"
            ]
          },
          "metadata": {},
          "execution_count": 45
        }
      ]
    },
    {
      "cell_type": "code",
      "source": [
        "df['Arrival Airport'].unique()"
      ],
      "metadata": {
        "colab": {
          "base_uri": "https://localhost:8080/"
        },
        "id": "INeBjlL9EK4w",
        "outputId": "35db7818-858d-4341-95ac-5e305da47255"
      },
      "execution_count": null,
      "outputs": [
        {
          "output_type": "execute_result",
          "data": {
            "text/plain": [
              "array(['CXF', 'YCO', 'GNB', ..., 'CXM', 'ROR', 'HPN'], dtype=object)"
            ]
          },
          "metadata": {},
          "execution_count": 46
        }
      ]
    },
    {
      "cell_type": "code",
      "source": [
        "print(agent.run(\"in US airport 2022/1/1 how many passengers arrived?\"))"
      ],
      "metadata": {
        "colab": {
          "base_uri": "https://localhost:8080/"
        },
        "id": "TiDrbDAH-pVc",
        "outputId": "dc24bc76-c9a3-46ab-d7e5-f1851c2c2013"
      },
      "execution_count": null,
      "outputs": [
        {
          "output_type": "stream",
          "name": "stdout",
          "text": [
            "\n",
            "\n",
            "\u001b[1m> Entering new AgentExecutor chain...\u001b[0m\n",
            "\u001b[32;1m\u001b[1;3m\n",
            "Invoking: `python_repl_ast` with `{'query': \"df[(df['Airport Country Code'] == 'US') & (df['Arrival Airport'] == 'US') & (df['Departure Date'] == '1/1/2022')].shape[0]\"}`\n",
            "\n",
            "\n",
            "\u001b[0m\u001b[36;1m\u001b[1;3m0\u001b[0m\u001b[32;1m\u001b[1;3mIn US airports on January 1, 2022, no passengers arrived according to the given dataframe.\u001b[0m\n",
            "\n",
            "\u001b[1m> Finished chain.\u001b[0m\n",
            "In US airports on January 1, 2022, no passengers arrived according to the given dataframe.\n"
          ]
        }
      ]
    },
    {
      "cell_type": "code",
      "source": [
        "with get_openai_callback() as cb:\n",
        "  result = agent.run(\"how mnay Passenger names who are aged between 30 to 60?\")\n",
        "  print(cb)"
      ],
      "metadata": {
        "id": "0IKNx0ZY-wEp",
        "colab": {
          "base_uri": "https://localhost:8080/"
        },
        "outputId": "52cf9d44-9014-4605-da68-68888d7c2cd7"
      },
      "execution_count": null,
      "outputs": [
        {
          "output_type": "stream",
          "name": "stdout",
          "text": [
            "\n",
            "\n",
            "\u001b[1m> Entering new AgentExecutor chain...\u001b[0m\n",
            "\u001b[32;1m\u001b[1;3m\n",
            "Invoking: `python_repl_ast` with `{'query': \"len(df[(df['Age'] >= 30) & (df['Age'] <= 60)])\"}`\n",
            "\n",
            "\n",
            "\u001b[0m\u001b[36;1m\u001b[1;3m34009\u001b[0m\u001b[32;1m\u001b[1;3mThere are 34,009 passengers who are aged between 30 to 60.\u001b[0m\n",
            "\n",
            "\u001b[1m> Finished chain.\u001b[0m\n",
            "Tokens Used: 1308\n",
            "\tPrompt Tokens: 1254\n",
            "\tCompletion Tokens: 54\n",
            "Successful Requests: 2\n",
            "Total Cost (USD): $0.001989\n"
          ]
        }
      ]
    },
    {
      "cell_type": "code",
      "source": [
        "with get_openai_callback() as cb:\n",
        "  result = agent.run(\"how mnay Passenger names who are aged between 30 to 60?\")\n",
        "  print(cb)"
      ],
      "metadata": {
        "id": "D3OSoHeE-wHh",
        "colab": {
          "base_uri": "https://localhost:8080/"
        },
        "outputId": "56ba926f-a71b-49ac-c07a-674b25bd73d8"
      },
      "execution_count": null,
      "outputs": [
        {
          "output_type": "stream",
          "name": "stdout",
          "text": [
            "\n",
            "\n",
            "\u001b[1m> Entering new AgentExecutor chain...\u001b[0m\n",
            "\u001b[32;1m\u001b[1;3m\n",
            "Invoking: `python_repl_ast` with `{'query': \"df[(df['Age'] >= 30) & (df['Age'] <= 60)].shape[0]\"}`\n",
            "\n",
            "\n",
            "\u001b[0m\u001b[36;1m\u001b[1;3m34009\u001b[0m\u001b[32;1m\u001b[1;3mThere are 34,009 passengers aged between 30 to 60.\u001b[0m\n",
            "\n",
            "\u001b[1m> Finished chain.\u001b[0m\n",
            "Tokens Used: 1310\n",
            "\tPrompt Tokens: 1256\n",
            "\tCompletion Tokens: 54\n",
            "Successful Requests: 2\n",
            "Total Cost (USD): $0.04092\n"
          ]
        }
      ]
    },
    {
      "cell_type": "code",
      "source": [],
      "metadata": {
        "id": "NZF-fJun-wKZ"
      },
      "execution_count": null,
      "outputs": []
    },
    {
      "cell_type": "code",
      "source": [],
      "metadata": {
        "id": "nRpsHxNX-wNV"
      },
      "execution_count": null,
      "outputs": []
    },
    {
      "cell_type": "code",
      "source": [],
      "metadata": {
        "id": "rzK85Dlq-wQM"
      },
      "execution_count": null,
      "outputs": []
    },
    {
      "cell_type": "code",
      "source": [],
      "metadata": {
        "id": "sBfQjGkO-wUR"
      },
      "execution_count": null,
      "outputs": []
    },
    {
      "cell_type": "code",
      "source": [],
      "metadata": {
        "id": "ajqyVNU0-wXK"
      },
      "execution_count": null,
      "outputs": []
    }
  ]
}